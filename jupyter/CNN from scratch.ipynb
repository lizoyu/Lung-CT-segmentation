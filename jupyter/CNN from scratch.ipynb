{
 "cells": [
  {
   "cell_type": "markdown",
   "metadata": {},
   "source": [
    "# CNN from scratch"
   ]
  },
  {
   "cell_type": "markdown",
   "metadata": {},
   "source": [
    "This notebook aims to solve Lung CT segmentation using Convolutional Neural Network."
   ]
  },
  {
   "cell_type": "markdown",
   "metadata": {},
   "source": [
    "First, some imports."
   ]
  },
  {
   "cell_type": "code",
   "execution_count": null,
   "metadata": {
    "collapsed": true
   },
   "outputs": [],
   "source": [
    "import numpy as np\n",
    "from utils.data_utils import read_data\n",
    "from keras.layers import Input, Conv2D, MaxPooling2D, UpSampling2D, Conv2DTranspose\n",
    "from keras.layers import Cropping2D, Concatenate, Activation\n",
    "from keras.optimizers import RMSprop\n",
    "from keras.models import Model"
   ]
  },
  {
   "cell_type": "markdown",
   "metadata": {},
   "source": [
    "Then, read the data."
   ]
  },
  {
   "cell_type": "code",
   "execution_count": null,
   "metadata": {
    "collapsed": true
   },
   "outputs": [],
   "source": [
    "x_train, y_train = read_data()\n",
    "\n",
    "# check data size\n",
    "print(x_train.shape, y_train.shape)"
   ]
  },
  {
   "cell_type": "markdown",
   "metadata": {},
   "source": [
    "# U-Net"
   ]
  },
  {
   "cell_type": "markdown",
   "metadata": {},
   "source": [
    "First, we use the popular U-Net structure."
   ]
  },
  {
   "cell_type": "code",
   "execution_count": null,
   "metadata": {
    "collapsed": true
   },
   "outputs": [],
   "source": [
    "# build the model\n",
    "# down path\n",
    "inputs = Input(shape=(512,512))\n",
    "x = Conv2D(64, (3, 3), padding='same', activation='relu')(inputs) #(512,512,64)\n",
    "map1 = Conv2D(64, (3, 3), padding='same', activation='relu')(x) #(512,512,64)\n",
    "\n",
    "x = MaxPooling2D()(map1) #(256,256,64)\n",
    "x = Conv2D(128, (3, 3), padding='same', activation='relu')(x) #(256,256,128)\n",
    "map2 = Conv2D(128, (3, 3), padding='same', activation='relu')(x) #(256,256,128)\n",
    "\n",
    "x = MaxPooling2D()(map2) #(128,128,128)\n",
    "x = Conv2D(256, (3, 3), padding='same', activation='relu')(x) #(128,128,256)\n",
    "map3 = Conv2D(256, (3, 3), padding='same', activation='relu')(x) #(128,128,256)\n",
    "\n",
    "x = MaxPooling2D()(map3) #(64,64,256)\n",
    "x = Conv2D(512, (3, 3), padding='same', activation='relu')(x) #(64,64,512)\n",
    "map4 = Conv2D(512, (3, 3), padding='same', activation='relu')(x) #(64,64,512)\n",
    "\n",
    "x = MaxPooling2D()(map4) #(32,32,512)\n",
    "x = Conv2D(1024, (3, 3), padding='same', activation='relu')(x) #(32,32,1024)\n",
    "x = Conv2D(1024, (3, 3), padding='same', activation='relu')(x) #(32,32,1024)\n",
    "\n",
    "# up path\n",
    "x = UpSampling2D()(x) #(64,64,1024)\n",
    "x = Conv2D(512, (2, 2), padding='same', activation='relu')(x) #(64,64,512)\n",
    "x = Concatenate(axis=-1)([map4, x]) #(64,64,1024)\n",
    "x = Conv2D(512, (3, 3), padding='same', activation='relu')(x) #(64,64,512)\n",
    "x = Conv2D(512, (3, 3), padding='same', activation='relu')(x) #(64,64,512)\n",
    "\n",
    "x = UpSampling2D()(x) #(128,128,512)\n",
    "x = Conv2D(256, (2, 2), padding='same', activation='relu')(x) #(128,128,256)\n",
    "x = Concatenate(axis=-1)([map3, x]) #(128,128,512)\n",
    "x = Conv2D(256, (3, 3), padding='same', activation='relu')(x) #(128,128,256)\n",
    "x = Conv2D(256, (3, 3), padding='same', activation='relu')(x) #(128,128,256)\n",
    "\n",
    "x = UpSampling2D()(x) #(256,256,256)\n",
    "x = Conv2D(128, (2, 2), padding='same', activation='relu')(x) #(256,256,128)\n",
    "x = Concatenate(axis=-1)([map2, x]) #(256,256,256)\n",
    "x = Conv2D(128, (3, 3), padding='same', activation='relu')(x) #(256,256,128)\n",
    "x = Conv2D(128, (3, 3), padding='same', activation='relu')(x) #(256,256,128)\n",
    "\n",
    "x = UpSampling2D()(x) #(512,512,128)\n",
    "x = Conv2D(64, (2, 2), padding='same', activation='relu')(x) #(512,512,64)\n",
    "x = Concatenate(axis=-1)([map1, x]) #(512,512,128)\n",
    "x = Conv2D(64, (3, 3), padding='same', activation='relu')(x) #(512,512,64)\n",
    "x = Conv2D(64, (3, 3), padding='same', activation='relu')(x) #(512,512,64)\n",
    "predictions = Conv2D(2, (1,1), activation='softmax')(x) #(512,512,2)\n",
    "\n",
    "unet = Model(inputs=inputs, outputs=predictions)\n",
    "\n",
    "# set loss and optimizer\n",
    "rmsprop = RMSprop(lr=0.001, decay=0.99)\n",
    "unet.complie(optimizer=rmsprop,\n",
    "             loss='sparse_categorical_crossentropy',\n",
    "             metrics=['accuracy'])\n",
    "unet.fit(x_train, y_train)"
   ]
  },
  {
   "cell_type": "code",
   "execution_count": null,
   "metadata": {
    "collapsed": true
   },
   "outputs": [],
   "source": []
  },
  {
   "cell_type": "code",
   "execution_count": null,
   "metadata": {
    "collapsed": true
   },
   "outputs": [],
   "source": []
  }
 ],
 "metadata": {
  "kernelspec": {
   "display_name": "Python 3",
   "language": "python",
   "name": "python3"
  },
  "language_info": {
   "codemirror_mode": {
    "name": "ipython",
    "version": 3
   },
   "file_extension": ".py",
   "mimetype": "text/x-python",
   "name": "python",
   "nbconvert_exporter": "python",
   "pygments_lexer": "ipython3",
   "version": "3.5.3"
  }
 },
 "nbformat": 4,
 "nbformat_minor": 0
}
