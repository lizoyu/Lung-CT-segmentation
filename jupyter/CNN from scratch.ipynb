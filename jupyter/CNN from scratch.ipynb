{
 "cells": [
  {
   "cell_type": "markdown",
   "metadata": {},
   "source": [
    "# CNN from scratch"
   ]
  },
  {
   "cell_type": "markdown",
   "metadata": {},
   "source": [
    "This notebook aims to solve Lung CT segmentation using Convolutional Neural Network."
   ]
  },
  {
   "cell_type": "markdown",
   "metadata": {},
   "source": [
    "First, some imports."
   ]
  },
  {
   "cell_type": "code",
   "execution_count": null,
   "metadata": {
    "collapsed": true
   },
   "outputs": [],
   "source": [
    "import numpy as np\n",
    "from utils.data_utils import read_data\n",
    "from keras.layers import Input, Conv2D, MaxPooling2D, UpSampling2D, Conv2DTranspose\n",
    "from keras.layers import Cropping2D, Concatenate\n",
    "from keras.models import Model"
   ]
  },
  {
   "cell_type": "markdown",
   "metadata": {},
   "source": [
    "Then, read the data."
   ]
  },
  {
   "cell_type": "code",
   "execution_count": null,
   "metadata": {
    "collapsed": true
   },
   "outputs": [],
   "source": [
    "x_train, y_train = read_data()\n",
    "\n",
    "# check data size\n",
    "print(x_train.shape, y_train.shape)"
   ]
  },
  {
   "cell_type": "markdown",
   "metadata": {},
   "source": [
    "# U-Net"
   ]
  },
  {
   "cell_type": "markdown",
   "metadata": {},
   "source": [
    "First, we use the popular U-Net structure."
   ]
  },
  {
   "cell_type": "code",
   "execution_count": null,
   "metadata": {
    "collapsed": true
   },
   "outputs": [],
   "source": [
    "# build the model\n",
    "# down path\n",
    "inputs = Input(shape=(512,512))\n",
    "x = Conv2D(64, (3, 3), activation='relu')(inputs) #(510,510,64)\n",
    "map1 = Conv2D(64, (3, 3), activation='relu')(x) #(508,508,64)\n",
    "\n",
    "x = MaxPooling2D()(map1) #(254,254,64)\n",
    "x = Conv2D(128, (3, 3), activation='relu')(x) #(252,252,128)\n",
    "map2 = Conv2D(128, (3, 3), activation='relu')(x) #(250,250,128)\n",
    "\n",
    "x = MaxPooling2D()(map2) #(125,125,128)\n",
    "x = Conv2D(256, (3, 3), activation='relu')(x) #(123,123,256)\n",
    "map3 = Conv2D(256, (3, 3), activation='relu')(x) #(121,121,256)\n",
    "\n",
    "x = MaxPooling2D()(map3) #(62,62,256)\n",
    "x = Conv2D(512, (3, 3), activation='relu')(x) #(60,60,512)\n",
    "map4 = Conv2D(512, (3, 3), activation='relu')(x) #(58,58,512)\n",
    "\n",
    "x = MaxPooling2D()(map4) #(29,29,512)\n",
    "x = Conv2D(1024, (3, 3), activation='relu')(x) #(27,27,1024)\n",
    "x = Conv2D(1024, (3, 3), activation='relu')(x) #(25,25,1024)\n",
    "\n",
    "# up path\n",
    "x = UpSampling2D()(x) #\n"
   ]
  },
  {
   "cell_type": "code",
   "execution_count": null,
   "metadata": {
    "collapsed": true
   },
   "outputs": [],
   "source": []
  },
  {
   "cell_type": "code",
   "execution_count": null,
   "metadata": {
    "collapsed": true
   },
   "outputs": [],
   "source": []
  }
 ],
 "metadata": {
  "kernelspec": {
   "display_name": "Python 3",
   "language": "python",
   "name": "python3"
  },
  "language_info": {
   "codemirror_mode": {
    "name": "ipython",
    "version": 3
   },
   "file_extension": ".py",
   "mimetype": "text/x-python",
   "name": "python",
   "nbconvert_exporter": "python",
   "pygments_lexer": "ipython3",
   "version": "3.5.3"
  }
 },
 "nbformat": 4,
 "nbformat_minor": 0
}
